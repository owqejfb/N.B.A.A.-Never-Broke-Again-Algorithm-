{
  "nbformat": 4,
  "nbformat_minor": 0,
  "metadata": {
    "colab": {
      "name": "Copy of nbba2.ipynb",
      "provenance": []
    },
    "kernelspec": {
      "name": "python3",
      "display_name": "Python 3"
    },
    "language_info": {
      "name": "python"
    }
  },
  "cells": [
    {
      "cell_type": "code",
      "metadata": {
        "id": "d9emOt1MIytp"
      },
      "source": [
        "#load the files into your google drive and find them with this\n",
        "#use !ls to see if if its there. if you dont know what that is go on google\n",
        "import os\n",
        "os.chdir('drive')\n",
        "os.chdir('MyDrive')"
      ],
      "execution_count": null,
      "outputs": []
    },
    {
      "cell_type": "code",
      "metadata": {
        "id": "tgfYauiwgLq1"
      },
      "source": [
        "import tensorflow as tf\n",
        "import numpy as np\n",
        "import pandas as pd\n",
        "\n",
        "from pandas import ExcelWriter\n",
        "from pandas import ExcelFile"
      ],
      "execution_count": null,
      "outputs": []
    },
    {
      "cell_type": "code",
      "metadata": {
        "id": "SnqjAP8WgUFm"
      },
      "source": [
        "#run this cell to load practice and test data\n",
        "practiceData = pd.read_csv(\"201213-201718.csv\") \n",
        "testData = pd.read_csv(\"201819.csv\") "
      ],
      "execution_count": null,
      "outputs": []
    },
    {
      "cell_type": "code",
      "metadata": {
        "id": "ZOta3eFDgg52"
      },
      "source": [
        "def DataStructures():\n",
        "  #this dictionary is meant to be used to access awayTeamLastTen\n",
        "  #some teams have repeated entries because of relocations/rebranding\n",
        "  #New Jersey -> Brooklyn Nets and New Orleans Hornets - > Pelicans. Charlotte changed from Bobcats to hornets but doesnt change their letters\n",
        "  teamDic = {\"ATL\":0,\"BKN\":1,\"NJN\":1,\"BOS\":2,\"CHA\":3,\"CHI\":4,\"CLE\":5,\"DAL\":6,\"DEN\":7,\"DET\":8,\"GSW\":9,\"HOU\":10,\"IND\":11,\"LAC\":12,\"LAL\":13,\"MEM\":14,\"MIA\":15,\"MIL\":16,\"MIN\":17,\"NOP\":18,\"NOH\":18,\"NYK\":19,\"OKC\":20,\"ORL\":21,\"PHI\":22,\"PHX\":23,\"POR\":24,\"SAC\":25,\"SAS\":26,\"TOR\":27,\"UTA\":28,\"WAS\":29}\n",
        "\n",
        "  #(total home wins/ total homes games played)\n",
        "  homeTeamWLAtHome = dict.fromkeys(teamDic,\"0/0\")\n",
        "\n",
        "  #list of queues that holds the last 10 away games for the away team in terms of W:1, L:0\n",
        "  #point of this is to use float(sum()/len()) to find win rate of last 10 away games for the away team\n",
        "  #[1,1,1,0,0,0,0,0,0,0] = 0.3\n",
        "  awayTeamLastTen = [[] for i in range(30)]\n",
        "\n",
        "  #this is to calculate average point differential for both team (total/numberofgamesteamhasplayed)\n",
        "  numberOfGamesTeamHasPlayed = dict.fromkeys(teamDic, 0)\n",
        "  totalPD = dict.fromkeys(teamDic,0)\n",
        "\n",
        "  return homeTeamWLAtHome,awayTeamLastTen,numberOfGamesTeamHasPlayed,totalPD"
      ],
      "execution_count": null,
      "outputs": []
    },
    {
      "cell_type": "code",
      "metadata": {
        "id": "TwkOMYNZgiep"
      },
      "source": [
        "def ExtractData(input):\n",
        "  data = input\n",
        "\n",
        "  tempTensor = []\n",
        "  tempLabels = []\n",
        "\n",
        "  homeTeamWLAtHome, awayTeamLastTen, numberOfGamesTeamHasPlayed, totalPD = DataStructures()\n",
        "\n",
        "  for index, row in data.iterrows():\n",
        "    \n",
        "    #checks for if its a new season\n",
        "    if (data.iloc[index,0] != data.iloc[index-1,0]) and index !=0 :\n",
        "      homeTeamWLAtHome, awayTeamLastTen, numberOfGamesTeamHasPlayed, totalPD = DataStructures()\n",
        "\n",
        "    matchup = row['MATCHUP'].split(\" \")\n",
        "    if matchup[1] == 'vs.':\n",
        "\n",
        "      numberOfGamesTeamHasPlayed[matchup[0]] += 1\n",
        "      numberOfGamesTeamHasPlayed[matchup[2]] += 1\n",
        "\n",
        "      totalPD[matchup[0]] += row['PLUS_MINUS']\n",
        "      totalPD[matchup[2]] += (row['PLUS_MINUS']*-1)\n",
        "\n",
        "      didHomeTeamWin = -1\n",
        "\n",
        "      #HOME TEAM WINS / AWAY TEAM LOSES\n",
        "      if row['PLUS_MINUS'] > 0:\n",
        "        #UPDATES home win/loss at home\n",
        "        temp = homeTeamWLAtHome[matchup[0]]\n",
        "        temp = temp.split(\"/\")\n",
        "        temp = str((int(temp[0])+1)) + \"/\" + str((int(temp[1])+1))         \n",
        "        homeTeamWLAtHome[matchup[0]] = temp\n",
        "\n",
        "        didHomeTeamWin = 1\n",
        "\n",
        "        #LAST TEN AWAY GAMES FOR THE AWAY TEAM\n",
        "        #APPEND 0 cause they lose\n",
        "        if len(awayTeamLastTen[teamDic[matchup[2]]]) > 9:\n",
        "          awayTeamLastTen[teamDic[matchup[2]]].pop(0)\n",
        "          awayTeamLastTen[teamDic[matchup[2]]].append(0)\n",
        "          \n",
        "        else:\n",
        "          awayTeamLastTen[teamDic[matchup[2]]].append(0)\n",
        "          \n",
        "      \n",
        "      #HOME TEAM LOSES / AWAY TEAM WINS\n",
        "      else:\n",
        "        temp = homeTeamWLAtHome[matchup[0]]\n",
        "        temp = temp.split(\"/\")          \n",
        "        temp = str((int(temp[0]))) + \"/\" + str((int(temp[1])+1))        \n",
        "        homeTeamWLAtHome[matchup[0]] = temp\n",
        "\n",
        "        didHomeTeamWin = 0\n",
        "\n",
        "        #LAST TEN AWAY GAMES FOR THE AWAY TEAM\n",
        "        #APPEND 1 cause they win\n",
        "        if len(awayTeamLastTen[teamDic[matchup[2]]]) > 9:\n",
        "          awayTeamLastTen[teamDic[matchup[2]]].pop(0)\n",
        "          awayTeamLastTen[teamDic[matchup[2]]].append(1)\n",
        "            \n",
        "        else:\n",
        "          awayTeamLastTen[teamDic[matchup[2]]].append(1)\n",
        "\n",
        "      #prepping the tensor and labels\n",
        "\n",
        "      homeTeam = matchup[0]\n",
        "      awayTeam = matchup[2]\n",
        "\n",
        "      homeTeamWinPercentAtHome = homeTeamWLAtHome[homeTeam].split(\"/\")\n",
        "      homeTeamWinPercentAtHome = float( int(homeTeamWinPercentAtHome[0])/int(homeTeamWinPercentAtHome[1]))\n",
        "\n",
        "      awayTeamWinPercentForLastTen = float ( sum(awayTeamLastTen[teamDic[awayTeam]])/ len(awayTeamLastTen[teamDic[awayTeam]]) )\n",
        "\n",
        "      homePD = float(totalPD[homeTeam]/numberOfGamesTeamHasPlayed[homeTeam])\n",
        "      awayPD = float(totalPD[awayTeam]/numberOfGamesTeamHasPlayed[awayTeam]) \n",
        "\n",
        "      tempTensor.append( tf.constant( [teamDic[homeTeam],teamDic[awayTeam],homeTeamWinPercentAtHome,awayTeamWinPercentForLastTen,homePD,awayPD] ) )\n",
        "      tempLabels.append(tf.constant([didHomeTeamWin]))\n",
        "\n",
        "  tempTensor = tf.stack(tempTensor)\n",
        "  tempLabels = tf.stack(tempLabels)\n",
        "\n",
        "  return tempTensor,tempLabels  \n",
        "  "
      ],
      "execution_count": null,
      "outputs": []
    },
    {
      "cell_type": "code",
      "metadata": {
        "id": "gfMSTS6pg70s"
      },
      "source": [
        "features, labels = ExtractData(practiceData)"
      ],
      "execution_count": null,
      "outputs": []
    },
    {
      "cell_type": "code",
      "metadata": {
        "id": "jjQujYLXyTKW"
      },
      "source": [
        "from tensorflow.keras import layers\n",
        "model = tf.keras.Sequential([\n",
        "  layers.Dense(6,input_dim=6,activation=\"relu\"),\n",
        "  layers.Dense(4,activation=\"relu\"),\n",
        "  layers.Dense(2,activation=\"relu\"),\n",
        "  #add more neurons as well see what happens\n",
        "\n",
        "  layers.Dense(1)\n",
        "])\n",
        "\n",
        "model.compile(optimizer='adam',\n",
        "              loss=tf.keras.losses.BinaryCrossentropy(),\n",
        "              metrics=['binary_accuracy'])\n",
        "\n",
        "model.fit(features, labels, epochs=300)\n",
        "print(\"Done\")"
      ],
      "execution_count": null,
      "outputs": []
    }
  ]
}